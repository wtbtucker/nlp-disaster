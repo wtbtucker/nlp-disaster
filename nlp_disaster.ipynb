{
 "cells": [
  {
   "cell_type": "markdown",
   "metadata": {},
   "source": [
    "# Introduction\n",
    "\n",
    "The goal of this project is to build a machine learning model that predicts which Tweets are about real disasters and which one's aren't. This sentiment classification task is important for helping first responders and news organizations detect and respond to real disasters quickly."
   ]
  },
  {
   "cell_type": "code",
   "execution_count": 28,
   "metadata": {},
   "outputs": [],
   "source": [
    "# Important libraries\n",
    "import pandas as pd\n",
    "import numpy as np\n",
    "import matplotlib.pyplot as plt\n",
    "import seaborn as sns\n",
    "\n",
    "# Data Cleaning and Preprocessing\n",
    "from sklearn.utils import resample\n",
    "import re\n",
    "import nltk.corpus\n",
    "from nltk.corpus import stopwords\n",
    "from nltk.stem import WordNetLemmatizer\n",
    "\n",
    "# Model Building and Training\n",
    "from sklearn.model_selection import train_test_split\n",
    "import tensorflow as tf\n",
    "from tensorflow.keras import layers, Model\n",
    "from tensorflow.keras.layers import Input, Dense, Embedding, Concatenate, StringLookup"
   ]
  },
  {
   "cell_type": "markdown",
   "metadata": {},
   "source": [
    "# Data\n",
    "The dataset was obtained from the Kaggle competition page [3]. The training dataset consists of 7,613 tweets each of which is hand classified with either a 1 representing a real disaster or 0 representing not-real disaster. The tweets each have a unique id and three features: text, keyword (possibly blank), and the location of the tweet (possibly blank). The tweet feature is a string which can be seen as a sequence of words. The test dataset contains 3,263 tweets with the same features but no labels. All the tweets are in English"
   ]
  },
  {
   "cell_type": "code",
   "execution_count": 5,
   "metadata": {},
   "outputs": [
    {
     "name": "stdout",
     "output_type": "stream",
     "text": [
      "<class 'pandas.core.frame.DataFrame'>\n",
      "RangeIndex: 7613 entries, 0 to 7612\n",
      "Data columns (total 5 columns):\n",
      " #   Column    Non-Null Count  Dtype \n",
      "---  ------    --------------  ----- \n",
      " 0   id        7613 non-null   int64 \n",
      " 1   keyword   7552 non-null   object\n",
      " 2   location  5080 non-null   object\n",
      " 3   text      7613 non-null   object\n",
      " 4   target    7613 non-null   int64 \n",
      "dtypes: int64(2), object(3)\n",
      "memory usage: 297.5+ KB\n",
      "None\n"
     ]
    }
   ],
   "source": [
    "train_df = pd.read_csv('train.csv')\n",
    "print(train_df.info())"
   ]
  },
  {
   "cell_type": "code",
   "execution_count": 6,
   "metadata": {},
   "outputs": [
    {
     "name": "stdout",
     "output_type": "stream",
     "text": [
      "<class 'pandas.core.frame.DataFrame'>\n",
      "RangeIndex: 3263 entries, 0 to 3262\n",
      "Data columns (total 4 columns):\n",
      " #   Column    Non-Null Count  Dtype \n",
      "---  ------    --------------  ----- \n",
      " 0   id        3263 non-null   int64 \n",
      " 1   keyword   3237 non-null   object\n",
      " 2   location  2158 non-null   object\n",
      " 3   text      3263 non-null   object\n",
      "dtypes: int64(1), object(3)\n",
      "memory usage: 102.1+ KB\n",
      "None\n"
     ]
    }
   ],
   "source": [
    "test_df = pd.read_csv('test.csv')\n",
    "print(test_df.info())"
   ]
  },
  {
   "cell_type": "markdown",
   "metadata": {},
   "source": [
    "# Exploratory Data Analysis\n",
    "I will look at some example tweets and create some visualizations of the training dataset to inform my plan of creating a machine learning model."
   ]
  },
  {
   "cell_type": "code",
   "execution_count": 16,
   "metadata": {},
   "outputs": [
    {
     "name": "stdout",
     "output_type": "stream",
     "text": [
      "['Our Deeds are the Reason of this #earthquake May ALLAH Forgive us all'\n",
      " 'Forest fire near La Ronge Sask. Canada'\n",
      " \"All residents asked to 'shelter in place' are being notified by officers. No other evacuation or shelter in place orders are expected\"\n",
      " '13,000 people receive #wildfires evacuation orders in California '\n",
      " 'Just got sent this photo from Ruby #Alaska as smoke from #wildfires pours into a school ']\n"
     ]
    }
   ],
   "source": [
    "sample_disaster_tweets = train_df[train_df['target']==1].head(5)\n",
    "print(np.array(sample_disaster_tweets['text']))"
   ]
  },
  {
   "cell_type": "markdown",
   "metadata": {},
   "source": [
    "The five sample tweets about real disasters all contain capital letters, punctuation, numbers, and stopwords. Typically, natural language processing removes all of these from the text before training the model. Two of the tweets, however, contain a hashtag with the name of of a natural disaster. It may be worth considering hashtags separately rather than removing them with other punctuation marks."
   ]
  },
  {
   "cell_type": "code",
   "execution_count": 12,
   "metadata": {},
   "outputs": [
    {
     "name": "stdout",
     "output_type": "stream",
     "text": [
      "[\"What's up man?\" 'I love fruits' 'Summer is lovely' 'My car is so fast'\n",
      " 'What a goooooooaaaaaal!!!!!!']\n"
     ]
    }
   ],
   "source": [
    "sample_nondisaster_tweets = train_df[train_df['target']==0]['text'].head(5)\n",
    "print(np.array(sample_nondisaster_tweets))"
   ]
  },
  {
   "cell_type": "markdown",
   "metadata": {},
   "source": [
    "The five sample non-disaster tweets also contain capital letters, punctuation, and stop words. The non-disaster tweets seem pretty innocuous, with feature extraction my model should be able to classify tweets related to disasters. "
   ]
  },
  {
   "cell_type": "code",
   "execution_count": 19,
   "metadata": {},
   "outputs": [
    {
     "name": "stdout",
     "output_type": "stream",
     "text": [
      "['@bbcmtd Wholesale Markets ablaze http://t.co/lHYXEOHY6C'\n",
      " '#AFRICANBAZE: Breaking news:Nigeria flag set ablaze in Aba. http://t.co/2nndBGwyEi'\n",
      " 'INEC Office in Abia Set Ablaze - http://t.co/3ImaomknnA'\n",
      " 'Barbados #Bridgetown JAMAICA \\x89ÛÒ Two cars set ablaze: SANTA CRUZ \\x89ÛÓ Head of the St Elizabeth Police Superintende...  http://t.co/wDUEaj8Q4J'\n",
      " 'How the West was burned: Thousands of wildfires ablaze in California alone http://t.co/vl5TBR3wbr']\n",
      "['ablaze' 'ablaze' 'ablaze' 'ablaze' 'ablaze']\n",
      "['Birmingham' 'AFRICA' 'World Wide!!' nan 'GREENSBORO,NORTH CAROLINA']\n"
     ]
    }
   ],
   "source": [
    "disaster_tweets_with_keywords = train_df[(train_df['target']==1)&(train_df['keyword'].notna())].head(5)\n",
    "print(np.array(disaster_tweets_with_keywords['text']))\n",
    "print(np.array(disaster_tweets_with_keywords['keyword']))\n",
    "print(np.array(disaster_tweets_with_keywords['location']))"
   ]
  },
  {
   "cell_type": "code",
   "execution_count": 20,
   "metadata": {},
   "outputs": [
    {
     "name": "stdout",
     "output_type": "stream",
     "text": [
      "['We always try to bring the heavy. #metal #RT http://t.co/YAo1e0xngw'\n",
      " 'Crying out for more! Set me ablaze'\n",
      " 'On plus side LOOK AT THE SKY LAST NIGHT IT WAS ABLAZE http://t.co/qqsmshaJ3N'\n",
      " \"@PhDSquares #mufc they've built so much hype around new acquisitions but I doubt they will set the EPL ablaze this season.\"\n",
      " 'Ablaze for you Lord :D']\n",
      "['ablaze' 'ablaze' 'ablaze' 'ablaze' 'ablaze']\n",
      "['Est. September 2012 - Bristol' 'Philadelphia, PA' 'London, UK'\n",
      " 'Pretoria' 'Paranaque City']\n"
     ]
    }
   ],
   "source": [
    "nondisaster_tweets_with_keywords = train_df[(train_df['target']==0)&(train_df['keyword'].notna())].head(5)\n",
    "print(np.array(nondisaster_tweets_with_keywords['text']))\n",
    "print(np.array(nondisaster_tweets_with_keywords['keyword']))\n",
    "print(np.array(nondisaster_tweets_with_keywords['location']))"
   ]
  },
  {
   "cell_type": "markdown",
   "metadata": {},
   "source": [
    "Comparing disaster tweets with nondisaster tweets for the keyword 'ablaze' reveals more about necessary NLP steps and the differences between the two categories. Some of the tweets have URLs which will need to be removed as part of data cleaning. The disaster tweets in these examples contain location names in the text much more commonly. Both categories contain location features."
   ]
  },
  {
   "cell_type": "code",
   "execution_count": 24,
   "metadata": {},
   "outputs": [
    {
     "data": {
      "image/png": "[encoded data removed]",
      "text/plain": [
       "<Figure size 1500x700 with 1 Axes>"
      ]
     },
     "metadata": {},
     "output_type": "display_data"
    }
   ],
   "source": [
    "# Compare the frequency of the two categories\n",
    "plt.figure(figsize=(15,7))\n",
    "ax = sns.countplot(data=train_df , x=train_df['target'])\n",
    "\n",
    "plt.xlabel('Disaster Classification')\n",
    "plt.ylabel('Number of Tweets')\n",
    "plt.xticks(ticks=[0,1], labels=['not disaster', 'disaster'])\n",
    "plt.title('Count of Tweets in Each Category', fontsize=20)\n",
    "ax.bar_label(ax.containers[0])\n",
    "plt.show()"
   ]
  },
  {
   "cell_type": "markdown",
   "metadata": {},
   "source": [
    "The two categories are imbalanced. This could cause our model to be biased towards the not disaster category. It could also cause metrics such as accuracy to be misleading. To mitigate these issues the categories can be rebalanced using one of a few strategies:\n",
    "* Resampling: undersample the majority class and/or oversample the minority class\n",
    "* Synthetic Minority Oversampling Technique (SMOTE)  \n",
    "\n",
    "SMOTE requires numerical data so it cannot be used for this task. Oversampling using simple observation duplication can lead to a model with poor generalization. While undersampling could remove valuable data it reduces training time and simplifies the model so it will be used to balance the classes."
   ]
  },
  {
   "cell_type": "code",
   "execution_count": 33,
   "metadata": {},
   "outputs": [
    {
     "data": {
      "image/png": "[encoded data removed]",
      "text/plain": [
       "<Figure size 1200x600 with 2 Axes>"
      ]
     },
     "metadata": {},
     "output_type": "display_data"
    }
   ],
   "source": [
    "disaster_len = train_df[train_df['target']==1]['text'].apply(len)\n",
    "mean_disaster_len = np.mean(disaster_len, axis=0)\n",
    "\n",
    "nondisaster_len = train_df[train_df['target']==0]['text'].apply(len)\n",
    "mean_nondisaster_len = np.mean(nondisaster_len, axis=0)\n",
    "\n",
    "plt.figure(figsize=(12, 6))\n",
    "\n",
    "# Plot histogram of disaster tweet lengths\n",
    "plt.subplot(1, 3, 1)\n",
    "plt.hist(disaster_len, bins=30, color='r', alpha=0.7)\n",
    "plt.axvline(mean_disaster_len, color='k', linestyle='dashed', linewidth=1)\n",
    "plt.title('Disaster')\n",
    "plt.xlabel('Tweet Length')\n",
    "plt.ylabel('Frequency')\n",
    "\n",
    "# Plot histogram of nondisaster tweet lengths\n",
    "plt.subplot(1, 3, 2)\n",
    "plt.hist(nondisaster_len, bins=30, color='b', alpha=0.7)\n",
    "plt.axvline(mean_nondisaster_len, color='k', linestyle='dashed', linewidth=1)\n",
    "plt.title('Non-Disaster')\n",
    "plt.xlabel('Tweet Length')\n",
    "plt.ylabel('Frequency')\n",
    "\n",
    "plt.tight_layout()\n",
    "plt.show()"
   ]
  },
  {
   "cell_type": "code",
   "execution_count": 30,
   "metadata": {},
   "outputs": [
    {
     "data": {
      "image/png": "[encoded data removed]",
      "text/plain": [
       "<Figure size 1200x600 with 2 Axes>"
      ]
     },
     "metadata": {},
     "output_type": "display_data"
    }
   ],
   "source": [
    "def get_word_count(tweet: str) -> int:\n",
    "    return len(tweet.split(' '))\n",
    "\n",
    "disaster_word_counts = train_df[train_df['target']==1]['text'].apply(get_word_count)\n",
    "mean_disaster_word_count = np.mean(disaster_word_counts, axis=0)\n",
    "\n",
    "nondisaster_word_counts = train_df[train_df['target']==0]['text'].apply(get_word_count)\n",
    "mean_nondisaster_word_count = np.mean(nondisaster_word_counts, axis=0)\n",
    "\n",
    "plt.figure(figsize=(12, 6))\n",
    "\n",
    "# Plot histogram of disaster word counts\n",
    "plt.subplot(1, 3, 1)\n",
    "plt.hist(disaster_word_counts, bins=30, color='r', alpha=0.7)\n",
    "plt.axvline(mean_disaster_word_count, color='k', linestyle='dashed', linewidth=1)\n",
    "plt.title('Disaster')\n",
    "plt.xlabel('Word Count')\n",
    "plt.ylabel('Frequency')\n",
    "plt.xlim(0, 60)\n",
    "\n",
    "# Plot histogram of nondisaster word counts\n",
    "plt.subplot(1, 3, 2)\n",
    "plt.hist(nondisaster_word_counts, bins=30, color='b', alpha=0.7)\n",
    "plt.axvline(mean_nondisaster_word_count, color='k', linestyle='dashed', linewidth=1)\n",
    "plt.title('Non-Disaster')\n",
    "plt.xlabel('Word Count')\n",
    "plt.ylabel('Frequency')\n",
    "plt.xlim(0, 60)\n",
    "\n",
    "plt.tight_layout()\n",
    "plt.show()"
   ]
  },
  {
   "cell_type": "markdown",
   "metadata": {},
   "source": [
    "# Data Cleaning and Preprocessing"
   ]
  },
  {
   "cell_type": "code",
   "execution_count": 7,
   "metadata": {},
   "outputs": [
    {
     "name": "stdout",
     "output_type": "stream",
     "text": [
      "0    3271\n",
      "1    3271\n",
      "Name: target, dtype: int64\n"
     ]
    }
   ],
   "source": [
    "# Balance the classes\n",
    "majority_class = train_df[train_df['target']==0]\n",
    "minority_class = train_df[train_df['target']==1]\n",
    "\n",
    "# undersample majority class\n",
    "majority_class_downsampled = resample(majority_class,\n",
    "                                      replace=False,\n",
    "                                      n_samples=len(minority_class),\n",
    "                                      random_state=42)\n",
    "\n",
    "balanced_df = pd.concat([majority_class_downsampled, minority_class])\n",
    "\n",
    "print(balanced_df['target'].value_counts())"
   ]
  },
  {
   "cell_type": "code",
   "execution_count": 8,
   "metadata": {},
   "outputs": [
    {
     "data": {
      "text/plain": [
       "0    [deeds, reason, earthquake, may, allah, forgiv...\n",
       "1        [forest, fire, near, la, ronge, sask, canada]\n",
       "2    [residents, asked, shelter, place, notified, o...\n",
       "3    [13000, people, receive, wildfires, evacuation...\n",
       "4    [got, sent, photo, ruby, alaska, smoke, wildfi...\n",
       "Name: text, dtype: object"
      ]
     },
     "execution_count": 8,
     "metadata": {},
     "output_type": "execute_result"
    }
   ],
   "source": [
    "def remove_punctuation(text: str) -> str:\n",
    "    punctuation_free=re.sub(r'[^\\w\\s]+', '', text)\n",
    "    return punctuation_free\n",
    "\n",
    "\n",
    "def tokenize_text(text: str) -> str:\n",
    "    tokens = text.split(' ')\n",
    "    return tokens\n",
    "\n",
    "def remove_stopwords(text: str) -> str:\n",
    "    words_for_removal = stopwords.words('english')\n",
    "    words_for_removal.append('')\n",
    "    stopword_free = [word for word in text if word not in words_for_removal]\n",
    "    return stopword_free\n",
    "\n",
    "def remove_url(text: str) -> str:\n",
    "    return re.sub(r'http\\S+', '', text)\n",
    "\n",
    "lowercase = train_df['text'].str.lower()\n",
    "url_free = lowercase.apply(remove_url)\n",
    "punctuation_free = url_free.apply(remove_punctuation)\n",
    "tokenized_tweets = punctuation_free.apply(tokenize_text)\n",
    "stopword_free = tokenized_tweets.apply(remove_stopwords)\n",
    "\n",
    "stopword_free.head()"
   ]
  },
  {
   "cell_type": "markdown",
   "metadata": {},
   "source": [
    "Data cleaning so far has included punctuation removal, url removal, lowering all uppercase letters, and tokenization. For the final data cleaning step I will standardize the words used in each tweet. There are two commonly used options for standardization: stemming and lemmatization. Stemming reduces words to their base for example running -> run. Stemming can cause some words to lose their meaning for example available -> avail. For this project I will use lemmatization which also reduces words to their base but uses a pre-defined dictionary of words to ensure meaning is not lost. \n",
    "\n",
    "There are some other preprocessing steps such as HTML tag and rare word removal that are not necessary due to the context of the data (tweets)."
   ]
  },
  {
   "cell_type": "code",
   "execution_count": 9,
   "metadata": {},
   "outputs": [
    {
     "data": {
      "text/plain": [
       "0    [deed, reason, earthquake, may, allah, forgive...\n",
       "1        [forest, fire, near, la, ronge, sask, canada]\n",
       "2    [resident, asked, shelter, place, notified, of...\n",
       "3    [13000, people, receive, wildfire, evacuation,...\n",
       "4    [got, sent, photo, ruby, alaska, smoke, wildfi...\n",
       "Name: lemm_text, dtype: object"
      ]
     },
     "execution_count": 9,
     "metadata": {},
     "output_type": "execute_result"
    }
   ],
   "source": [
    "wordnet_lemmatizer = WordNetLemmatizer()\n",
    "def lemmatizer(text: str) -> str:\n",
    "    lemm_text = [wordnet_lemmatizer.lemmatize(word) for word in text]\n",
    "    return lemm_text\n",
    "train_df['lemm_text'] = stopword_free.apply(lambda x: lemmatizer(x))\n",
    "train_df['lemm_text'].head()"
   ]
  },
  {
   "cell_type": "code",
   "execution_count": 10,
   "metadata": {},
   "outputs": [],
   "source": [
    "# Impute missing values for keyword and location\n",
    "train_df['keyword'].fillna('missing', inplace=True)\n",
    "train_df['location'].fillna('missing', inplace=True)"
   ]
  },
  {
   "cell_type": "markdown",
   "metadata": {},
   "source": [
    "# Model Building and Training\n",
    "I will use tensorflow's TextVectorization layer. This class has a standardize method but it cannot remove urls so I standardized the text myself prior to passing it to TextVectorization.  The required input is a sequence of words so I will join my lemmatized lists back into strings. I chose 30 words as the sequence length based on the graphs of word count seen above"
   ]
  },
  {
   "cell_type": "code",
   "execution_count": 20,
   "metadata": {},
   "outputs": [
    {
     "data": {
      "text/html": [
       "<div>\n",
       "<style scoped>\n",
       "    .dataframe tbody tr th:only-of-type {\n",
       "        vertical-align: middle;\n",
       "    }\n",
       "\n",
       "    .dataframe tbody tr th {\n",
       "        vertical-align: top;\n",
       "    }\n",
       "\n",
       "    .dataframe thead th {\n",
       "        text-align: right;\n",
       "    }\n",
       "</style>\n",
       "<table border=\"1\" class=\"dataframe\">\n",
       "  <thead>\n",
       "    <tr style=\"text-align: right;\">\n",
       "      <th></th>\n",
       "      <th>id</th>\n",
       "      <th>keyword</th>\n",
       "      <th>location</th>\n",
       "      <th>text</th>\n",
       "      <th>target</th>\n",
       "    </tr>\n",
       "  </thead>\n",
       "  <tbody>\n",
       "    <tr>\n",
       "      <th>0</th>\n",
       "      <td>1</td>\n",
       "      <td>missing</td>\n",
       "      <td>missing</td>\n",
       "      <td>deed reason earthquake may allah forgive u</td>\n",
       "      <td>1</td>\n",
       "    </tr>\n",
       "    <tr>\n",
       "      <th>1</th>\n",
       "      <td>4</td>\n",
       "      <td>missing</td>\n",
       "      <td>missing</td>\n",
       "      <td>forest fire near la ronge sask canada</td>\n",
       "      <td>1</td>\n",
       "    </tr>\n",
       "    <tr>\n",
       "      <th>2</th>\n",
       "      <td>5</td>\n",
       "      <td>missing</td>\n",
       "      <td>missing</td>\n",
       "      <td>resident asked shelter place notified officer ...</td>\n",
       "      <td>1</td>\n",
       "    </tr>\n",
       "    <tr>\n",
       "      <th>3</th>\n",
       "      <td>6</td>\n",
       "      <td>missing</td>\n",
       "      <td>missing</td>\n",
       "      <td>13000 people receive wildfire evacuation order...</td>\n",
       "      <td>1</td>\n",
       "    </tr>\n",
       "    <tr>\n",
       "      <th>4</th>\n",
       "      <td>7</td>\n",
       "      <td>missing</td>\n",
       "      <td>missing</td>\n",
       "      <td>got sent photo ruby alaska smoke wildfire pour...</td>\n",
       "      <td>1</td>\n",
       "    </tr>\n",
       "  </tbody>\n",
       "</table>\n",
       "</div>"
      ],
      "text/plain": [
       "   id  keyword location                                               text  \\\n",
       "0   1  missing  missing         deed reason earthquake may allah forgive u   \n",
       "1   4  missing  missing              forest fire near la ronge sask canada   \n",
       "2   5  missing  missing  resident asked shelter place notified officer ...   \n",
       "3   6  missing  missing  13000 people receive wildfire evacuation order...   \n",
       "4   7  missing  missing  got sent photo ruby alaska smoke wildfire pour...   \n",
       "\n",
       "   target  \n",
       "0       1  \n",
       "1       1  \n",
       "2       1  \n",
       "3       1  \n",
       "4       1  "
      ]
     },
     "execution_count": 20,
     "metadata": {},
     "output_type": "execute_result"
    }
   ],
   "source": [
    "train_copy = train_df.copy()\n",
    "clean_text = train_copy['lemm_text'].apply(lambda x: ' '.join(x))\n",
    "train_df['text'] = clean_text\n",
    "train_df.drop(['lemm_text'], axis=1, inplace=True)\n",
    "train_df.head()"
   ]
  },
  {
   "cell_type": "code",
   "execution_count": 21,
   "metadata": {},
   "outputs": [],
   "source": [
    "# Split training and validation datasets, test data is already in separate dataframe\n",
    "X_train, X_val, y_train, y_val = train_test_split(\n",
    "    train_df[['text', 'keyword', 'location']],\n",
    "    train_df['target'],\n",
    "    test_size=0.2,\n",
    "    random_state=42\n",
    ")"
   ]
  },
  {
   "cell_type": "code",
   "execution_count": 12,
   "metadata": {},
   "outputs": [],
   "source": [
    "# Vectorize layer to vectorize the main text of the tweet\n",
    "max_features = 10000\n",
    "sequence_length = 30\n",
    "\n",
    "vectorize_layer = layers.TextVectorization(\n",
    "    standardize=None,\n",
    "    max_tokens=max_features,\n",
    "    output_mode='int',\n",
    "    output_sequence_length=sequence_length)"
   ]
  },
  {
   "cell_type": "code",
   "execution_count": 22,
   "metadata": {},
   "outputs": [],
   "source": [
    "# Create tensorflow dataset\n",
    "train_text_ds = tf.data.Dataset.from_tensor_slices(X_train['text'].values)\n",
    "\n",
    "# adapt vectorization layer to train set only to prevent data leakage\n",
    "vectorize_layer.adapt(train_text_ds)"
   ]
  },
  {
   "cell_type": "code",
   "execution_count": 23,
   "metadata": {},
   "outputs": [],
   "source": [
    "vectorized_train_text = vectorize_layer(X_train['text'].values)\n",
    "vectorized_val_text = vectorize_layer(X_val['text'].values)"
   ]
  },
  {
   "cell_type": "markdown",
   "metadata": {},
   "source": [
    "I chose StringLookup instead of other encoding options like one-hot encoding or tf-idf because I plan on feeding the output through an Embedding layer to create a dense vector representation"
   ]
  },
  {
   "cell_type": "code",
   "execution_count": 25,
   "metadata": {},
   "outputs": [],
   "source": [
    "# Convert categorical string features into integer IDs\n",
    "keyword_encoder = StringLookup(vocabulary=X_train['keyword'].unique(), mask_token=None)\n",
    "location_encoder = StringLookup(vocabulary=X_train['location'].unique(), mask_token=None)\n",
    "\n",
    "encoded_train_keyword = keyword_encoder(X_train['keyword'].values)\n",
    "encoded_val_keyword = keyword_encoder(X_val['keyword'].values)\n",
    "\n",
    "encoded_train_location = keyword_encoder(X_train['location'].values)\n",
    "encoded_val_location = keyword_encoder(X_val['location'].values)"
   ]
  },
  {
   "cell_type": "code",
   "execution_count": 27,
   "metadata": {},
   "outputs": [],
   "source": [
    "# Prepare train and validation datasets for model training\n",
    "train_data = tf.data.Dataset.from_tensor_slices(({\n",
    "    'text': vectorized_train_text,\n",
    "    'keyword': encoded_train_keyword,\n",
    "    'location': encoded_train_location\n",
    "}, y_train))\n",
    "\n",
    "val_data = tf.data.Dataset.from_tensor_slices(({\n",
    "    'text': vectorized_val_text,\n",
    "    'keyword': encoded_val_keyword,\n",
    "    'location': encoded_val_location\n",
    "}, y_val))\n",
    "\n",
    "# Define batch size and shuffle for training\n",
    "train_data = train_data.shuffle(buffer_size=len(X_train)).batch(32)\n",
    "val_data = val_data.batch(32)"
   ]
  },
  {
   "cell_type": "markdown",
   "metadata": {},
   "source": [
    "For my model architecture I considered Gated Recurrent Units (GRU) and Long Short-Term Memory units (LSTM) both of which are well suited to handling sequential data like text. GRU is more computationally efficient than LSTM so I will use GRU for processing the text portion of the dataset. In order to concatenate the the location and keyword embeddings with GRU output they need to be flattened to a 1D vector for compatibility. I use one fully integrated layer for processing the combined dataset (text, keyword, and location) because a fully connected layer is well suited to processing 1D vectors."
   ]
  },
  {
   "cell_type": "code",
   "execution_count": 30,
   "metadata": {},
   "outputs": [
    {
     "name": "stdout",
     "output_type": "stream",
     "text": [
      "Model: \"model_1\"\n",
      "__________________________________________________________________________________________________\n",
      " Layer (type)                   Output Shape         Param #     Connected to                     \n",
      "==================================================================================================\n",
      " text (InputLayer)              [(None, 30)]         0           []                               \n",
      "                                                                                                  \n",
      " keyword (InputLayer)           [(None, 1)]          0           []                               \n",
      "                                                                                                  \n",
      " location (InputLayer)          [(None, 1)]          0           []                               \n",
      "                                                                                                  \n",
      " embedding_3 (Embedding)        (None, 30, 50)       500000      ['text[0][0]']                   \n",
      "                                                                                                  \n",
      " embedding_4 (Embedding)        (None, 1, 50)        11100       ['keyword[0][0]']                \n",
      "                                                                                                  \n",
      " embedding_5 (Embedding)        (None, 1, 100)       334200      ['location[0][0]']               \n",
      "                                                                                                  \n",
      " gru_1 (GRU)                    (None, 64)           22272       ['embedding_3[0][0]']            \n",
      "                                                                                                  \n",
      " flatten_2 (Flatten)            (None, 50)           0           ['embedding_4[0][0]']            \n",
      "                                                                                                  \n",
      " flatten_3 (Flatten)            (None, 100)          0           ['embedding_5[0][0]']            \n",
      "                                                                                                  \n",
      " concatenate_1 (Concatenate)    (None, 214)          0           ['gru_1[0][0]',                  \n",
      "                                                                  'flatten_2[0][0]',              \n",
      "                                                                  'flatten_3[0][0]']              \n",
      "                                                                                                  \n",
      " dense_2 (Dense)                (None, 64)           13760       ['concatenate_1[0][0]']          \n",
      "                                                                                                  \n",
      " dense_3 (Dense)                (None, 1)            65          ['dense_2[0][0]']                \n",
      "                                                                                                  \n",
      "==================================================================================================\n",
      "Total params: 881,397\n",
      "Trainable params: 881,397\n",
      "Non-trainable params: 0\n",
      "__________________________________________________________________________________________________\n"
     ]
    }
   ],
   "source": [
    "# Define inputs\n",
    "text_input = layers.Input(shape=(sequence_length,), name='text')\n",
    "keyword_input = layers.Input(shape=(1,), name='keyword')\n",
    "location_input = layers.Input(shape=(1,), name='location')\n",
    "\n",
    "# Embedding layers\n",
    "embedding_layer = layers.Embedding(input_dim=max_features, output_dim=50, input_length=30)(text_input)\n",
    "\n",
    "# Default parameters meet requirements for cuDNN implementation (GPU)\n",
    "gru_layer = layers.GRU(\n",
    "    64,\n",
    "    return_sequences=False\n",
    ")(embedding_layer)\n",
    "\n",
    "keyword_embedding = layers.Embedding(input_dim=222, output_dim=50)(keyword_input)\n",
    "location_embedding = layers.Embedding(input_dim=3342, output_dim=100)(location_input)\n",
    "\n",
    "# Flatten embeddings\n",
    "keyword_flattened = layers.Flatten()(keyword_embedding)\n",
    "location_flattened = layers.Flatten()(location_embedding)\n",
    "\n",
    "# Concatenate features\n",
    "concatenated = layers.Concatenate()([gru_layer, keyword_flattened, location_flattened])\n",
    "\n",
    "# Dense layers and output\n",
    "dense_layer = layers.Dense(64, activation='relu')(concatenated)\n",
    "output = layers.Dense(1, activation='sigmoid')(dense_layer)\n",
    "\n",
    "# Define the model\n",
    "model = Model(inputs=[text_input, keyword_input, location_input], outputs=output)\n",
    "\n",
    "# Compile the model\n",
    "model.compile(optimizer='adam', loss='binary_crossentropy', metrics=['accuracy'])\n",
    "\n",
    "model.summary()"
   ]
  },
  {
   "cell_type": "code",
   "execution_count": null,
   "metadata": {},
   "outputs": [],
   "source": [
    "# Training the model\n",
    "history = model.fit(train_data, validation_data=val_data, epochs=10)"
   ]
  },
  {
   "cell_type": "markdown",
   "metadata": {},
   "source": [
    "# Citations\n",
    "[1] https://www.analyticsvidhya.com/blog/2020/07/10-techniques-to-deal-with-class-imbalance-in-machine-learning/#:~:text=There%20are%20several%20ways%20to,Minority%20Over%2Dsampling%20Technique).\n",
    "\n",
    "[2] https://arxiv.org/abs/1910.01108\n",
    "\n",
    "[3] https://www.kaggle.com/c/nlp-getting-started/overview\n",
    "\n",
    "[4] https://keras.io/api/keras_nlp/models/distil_bert/\n",
    "\n",
    "[5] https://medium.com/geekculture/hugging-face-distilbert-tensorflow-for-custom-text-classification-1ad4a49e26a7\n",
    "\n",
    "[6] https://www.tensorflow.org/tutorials/keras/text_classification"
   ]
  },
  {
   "cell_type": "markdown",
   "metadata": {},
   "source": []
  }
 ],
 "metadata": {
  "kernelspec": {
   "display_name": "Python 3",
   "language": "python",
   "name": "python3"
  },
  "language_info": {
   "codemirror_mode": {
    "name": "ipython",
    "version": 3
   },
   "file_extension": ".py",
   "mimetype": "text/x-python",
   "name": "python",
   "nbconvert_exporter": "python",
   "pygments_lexer": "ipython3",
   "version": "3.10.6"
  }
 },
 "nbformat": 4,
 "nbformat_minor": 2
}
